{
 "cells": [
  {
   "cell_type": "markdown",
   "metadata": {},
   "source": [
    "# Stochastic Gradient Descent"
   ]
  },
  {
   "cell_type": "markdown",
   "metadata": {},
   "source": [
    "Use Keras and Tensorflow to train your first neural network."
   ]
  },
  {
   "cell_type": "markdown",
   "metadata": {},
   "source": [
    "# Example - Red Wine Quality"
   ]
  },
  {
   "cell_type": "markdown",
   "metadata": {},
   "source": [
    "Skrip Python ini dirancang untuk mempersiapkan dataset untuk membangun model pembelajaran mesin yang memprediksi kualitas anggur merah. Ini melibatkan membaca dataset, membuat pembagian data latihan dan validasi, penskalaan fitur, dan pemisahan fitur dari variabel target.\n",
    "\n",
    "Skrip ini dimulai dengan mengimpor pustaka yang diperlukan:"
   ]
  },
  {
   "cell_type": "code",
   "execution_count": 4,
   "metadata": {},
   "outputs": [
    {
     "data": {
      "text/html": [
       "<div>\n",
       "<style scoped>\n",
       "    .dataframe tbody tr th:only-of-type {\n",
       "        vertical-align: middle;\n",
       "    }\n",
       "\n",
       "    .dataframe tbody tr th {\n",
       "        vertical-align: top;\n",
       "    }\n",
       "\n",
       "    .dataframe thead th {\n",
       "        text-align: right;\n",
       "    }\n",
       "</style>\n",
       "<table border=\"1\" class=\"dataframe\">\n",
       "  <thead>\n",
       "    <tr style=\"text-align: right;\">\n",
       "      <th></th>\n",
       "      <th>fixed acidity</th>\n",
       "      <th>volatile acidity</th>\n",
       "      <th>citric acid</th>\n",
       "      <th>residual sugar</th>\n",
       "      <th>chlorides</th>\n",
       "      <th>free sulfur dioxide</th>\n",
       "      <th>total sulfur dioxide</th>\n",
       "      <th>density</th>\n",
       "      <th>pH</th>\n",
       "      <th>sulphates</th>\n",
       "      <th>alcohol</th>\n",
       "      <th>quality</th>\n",
       "    </tr>\n",
       "  </thead>\n",
       "  <tbody>\n",
       "    <tr>\n",
       "      <th>1109</th>\n",
       "      <td>10.8</td>\n",
       "      <td>0.470</td>\n",
       "      <td>0.43</td>\n",
       "      <td>2.10</td>\n",
       "      <td>0.171</td>\n",
       "      <td>27.0</td>\n",
       "      <td>66.0</td>\n",
       "      <td>0.99820</td>\n",
       "      <td>3.17</td>\n",
       "      <td>0.76</td>\n",
       "      <td>10.8</td>\n",
       "      <td>6</td>\n",
       "    </tr>\n",
       "    <tr>\n",
       "      <th>1032</th>\n",
       "      <td>8.1</td>\n",
       "      <td>0.820</td>\n",
       "      <td>0.00</td>\n",
       "      <td>4.10</td>\n",
       "      <td>0.095</td>\n",
       "      <td>5.0</td>\n",
       "      <td>14.0</td>\n",
       "      <td>0.99854</td>\n",
       "      <td>3.36</td>\n",
       "      <td>0.53</td>\n",
       "      <td>9.6</td>\n",
       "      <td>5</td>\n",
       "    </tr>\n",
       "    <tr>\n",
       "      <th>1002</th>\n",
       "      <td>9.1</td>\n",
       "      <td>0.290</td>\n",
       "      <td>0.33</td>\n",
       "      <td>2.05</td>\n",
       "      <td>0.063</td>\n",
       "      <td>13.0</td>\n",
       "      <td>27.0</td>\n",
       "      <td>0.99516</td>\n",
       "      <td>3.26</td>\n",
       "      <td>0.84</td>\n",
       "      <td>11.7</td>\n",
       "      <td>7</td>\n",
       "    </tr>\n",
       "    <tr>\n",
       "      <th>487</th>\n",
       "      <td>10.2</td>\n",
       "      <td>0.645</td>\n",
       "      <td>0.36</td>\n",
       "      <td>1.80</td>\n",
       "      <td>0.053</td>\n",
       "      <td>5.0</td>\n",
       "      <td>14.0</td>\n",
       "      <td>0.99820</td>\n",
       "      <td>3.17</td>\n",
       "      <td>0.42</td>\n",
       "      <td>10.0</td>\n",
       "      <td>6</td>\n",
       "    </tr>\n",
       "  </tbody>\n",
       "</table>\n",
       "</div>"
      ],
      "text/plain": [
       "      fixed acidity  volatile acidity  citric acid  residual sugar  chlorides  \\\n",
       "1109           10.8             0.470         0.43            2.10      0.171   \n",
       "1032            8.1             0.820         0.00            4.10      0.095   \n",
       "1002            9.1             0.290         0.33            2.05      0.063   \n",
       "487            10.2             0.645         0.36            1.80      0.053   \n",
       "\n",
       "      free sulfur dioxide  total sulfur dioxide  density    pH  sulphates  \\\n",
       "1109                 27.0                  66.0  0.99820  3.17       0.76   \n",
       "1032                  5.0                  14.0  0.99854  3.36       0.53   \n",
       "1002                 13.0                  27.0  0.99516  3.26       0.84   \n",
       "487                   5.0                  14.0  0.99820  3.17       0.42   \n",
       "\n",
       "      alcohol  quality  \n",
       "1109     10.8        6  \n",
       "1032      9.6        5  \n",
       "1002     11.7        7  \n",
       "487      10.0        6  "
      ]
     },
     "metadata": {},
     "output_type": "display_data"
    }
   ],
   "source": [
    "import pandas as pd\n",
    "from IPython.display import display\n",
    "\n",
    "red_wine = pd.read_csv('./red-wine.csv')\n",
    "\n",
    "# Create training and validation splits\n",
    "df_train = red_wine.sample(frac=0.7, random_state=0)\n",
    "df_valid = red_wine.drop(df_train.index)\n",
    "display(df_train.head(4))\n",
    "\n",
    "# Scale to [0, 1]\n",
    "max_ = df_train.max(axis=0)\n",
    "min_ = df_train.min(axis=0)\n",
    "df_train = (df_train - min_) / (max_ - min_)\n",
    "df_valid = (df_valid - min_) / (max_ - min_)\n",
    "\n",
    "# Split features and target\n",
    "X_train = df_train.drop('quality', axis=1)\n",
    "X_valid = df_valid.drop('quality', axis=1)\n",
    "y_train = df_train['quality']\n",
    "y_valid = df_valid['quality']"
   ]
  },
  {
   "cell_type": "markdown",
   "metadata": {},
   "source": [
    "* pandas (sebagai pd): Pustaka manipulasi dan analisis data yang kuat.\n",
    "* display dari IPython.display: Fungsi untuk menampilkan objek Python dalam format yang lebih kaya.\n",
    "\n",
    "Di sini, red_wine adalah objek DataFrame yang berisi data dari file 'red-wine.csv'.\n",
    "\n",
    "Dataset secara acak dibagi menjadi set data latihan dan validasi untuk memastikan model dapat dilatih dan divalidasi pada set data yang berbeda:\n",
    "* df_train dibuat dengan mengambil sampel 70% data dari red_wine menggunakan sample(frac=0.7, random_state=0), di mana random_state memastikan reproduktibilitas.\n",
    "* df_valid diperoleh dengan menghapus indeks df_train dari red_wine, memastikan tidak ada tumpang tindih antara data latihan dan validasi.\n",
    "\n",
    "Penskalaan fitur penting untuk banyak algoritma pembelajaran mesin agar berperforma baik. Di sini, kami menyesuaikan skala fitur ke rentang [0, 1]:\n",
    "* max_ dan min_ menghitung nilai maksimum dan minimum untuk setiap kolom di df_train.\n",
    "* Baik df_train maupun df_valid diubah skala menggunakan nilai maksimum dan minimum ini untuk memastikan konsistensi dalam penskalaan.\n",
    "\n",
    "Akhirnya, fitur dan variabel target ('quality') dipisahkan untuk dataset latihan dan validasi:\n",
    "* X_train dan X_valid berisi fitur.\n",
    "* y_train dan y_valid berisi variabel target.\n",
    "\n",
    "Persiapan ini memungkinkan data untuk dengan mudah digunakan untuk melatih model pembelajaran mesin untuk memprediksi kualitas anggur merah."
   ]
  },
  {
   "cell_type": "markdown",
   "metadata": {},
   "source": [
    "Baris kode ini akan menghasilkan dimensi dari DataFrame X_train, khususnya jumlah baris dan kolom. Di sini, jumlah baris sesuai dengan jumlah sampel dalam dataset pelatihan (70% dari dataset asli jika Anda menggunakan kode yang ditunjukkan sebelumnya untuk membagi data), dan jumlah kolom sesuai dengan jumlah fitur dalam dataset, tanpa variabel target 'quality'.\n",
    "\n",
    "Langkah ini berguna untuk memverifikasi bahwa dataset telah dipartisi dengan benar dan bahwa DataFrame berisi jumlah fitur yang diharapkan untuk pelatihan model. Jika kode ini dijalankan, makan akan membantu memastikan bahwa proses penanganan data berfungsi sesuai yang diharapkan."
   ]
  },
  {
   "cell_type": "code",
   "execution_count": 9,
   "metadata": {},
   "outputs": [
    {
     "name": "stdout",
     "output_type": "stream",
     "text": [
      "(1119, 11)\n"
     ]
    }
   ],
   "source": [
    "print(X_train.shape)"
   ]
  },
  {
   "cell_type": "markdown",
   "metadata": {},
   "source": [
    "Kode ini menggunakan library TensorFlow untuk membangun sebuah model neural network yang mendalam (deep neural network) untuk tujuan regresi atau klasifikasi dengan satu output. Model ini menggunakan arsitektur yang terdiri dari beberapa lapisan dengan banyak neuron.\n",
    "\n",
    "Pertama, kita mengimpor modul yang diperlukan dari TensorFlow dan Keras:"
   ]
  },
  {
   "cell_type": "code",
   "execution_count": 10,
   "metadata": {},
   "outputs": [
    {
     "name": "stderr",
     "output_type": "stream",
     "text": [
      "c:\\Users\\robit\\miniconda3\\envs\\deep_learning\\Lib\\site-packages\\keras\\src\\layers\\core\\dense.py:87: UserWarning: Do not pass an `input_shape`/`input_dim` argument to a layer. When using Sequential models, prefer using an `Input(shape)` object as the first layer in the model instead.\n",
      "  super().__init__(activity_regularizer=activity_regularizer, **kwargs)\n"
     ]
    }
   ],
   "source": [
    "from tensorflow import keras\n",
    "from tensorflow.keras import layers\n",
    "\n",
    "model = keras.Sequential([\n",
    "    layers.Dense(512, activation='relu', input_shape=[11]),\n",
    "    layers.Dense(512, activation='relu'),\n",
    "    layers.Dense(512, activation='relu'),\n",
    "    layers.Dense(1),\n",
    "])"
   ]
  },
  {
   "cell_type": "markdown",
   "metadata": {},
   "source": [
    "Model dibangun sebagai urutan (sequential) lapisan-lapisan menggunakan keras.Sequential. Setiap lapisan dalam model adalah lapisan Dense (lapisan yang sepenuhnya terhubung):\n",
    "* Lapisan Pertama: Lapisan Dense dengan 512 unit/neuron, menggunakan fungsi aktivasi ReLU. input_shape=[11] menunjukkan bahwa setiap input ke model akan memiliki 11 fitur.\n",
    "* Lapisan Kedua dan Ketiga: Kedua lapisan ini juga merupakan lapisan Dense dengan 512 unit dan fungsi aktivasi ReLU. Lapisan-lapisan ini membantu model mempelajari representasi yang lebih kompleks dari data.\n",
    "* Lapisan Keempat: Lapisan keluaran ini adalah lapisan Dense dengan satu unit, tanpa fungsi aktivasi yang ditentukan, yang biasa digunakan untuk regresi. Untuk klasifikasi, dapat ditambahkan fungsi aktivasi seperti sigmoid (untuk klasifikasi biner) atau softmax (untuk klasifikasi multi-kelas)."
   ]
  },
  {
   "cell_type": "markdown",
   "metadata": {},
   "source": [
    "Model ini cocok untuk tugas-tugas yang membutuhkan kemampuan generalisasi yang tinggi dari input numerik yang terdiri dari 11 fitur. Arsitektur ini, dengan banyak lapisan dan neuron, cenderung mampu menangkap hubungan yang kompleks dalam data tetapi juga bisa rawan terhadap overfitting terutama jika tidak ada data yang cukup atau tanpa regularisasi yang tepat."
   ]
  },
  {
   "cell_type": "markdown",
   "metadata": {},
   "source": [
    "Setelah mendefinisikan arsitektur model, langkah berikutnya adalah mengkompilasi model. Kompilasi model adalah proses di mana kita mengonfigurasi model untuk proses pelatihan, termasuk menetapkan optimizer, fungsi kehilangan (loss function), dan metrik yang akan digunakan selama pelatihan.\n",
    "\n",
    "Untuk mengkompilasi model, kita menggunakan metode `compile` dari objek model:"
   ]
  },
  {
   "cell_type": "code",
   "execution_count": 11,
   "metadata": {},
   "outputs": [],
   "source": [
    "model.compile(\n",
    "    optimizer='adam',\n",
    "    loss='mae',\n",
    ")"
   ]
  },
  {
   "cell_type": "markdown",
   "metadata": {},
   "source": [
    "* Optimizer: adam digunakan sebagai optimizer. Adam adalah salah satu optimizer yang paling sering digunakan dalam praktik deep learning. Optimizer ini adalah perluasan dari algoritma gradient descent stokastik yang telah diadaptasi untuk skala besar dan merupakan pilihan yang baik untuk banyak masalah karena efisiensi komputasinya dan penggunaan memori yang sedikit.\n",
    "* Fungsi Kehilangan (Loss Function): mae singkatan dari Mean Absolute Error, sebuah fungsi loss yang menghitung rata-rata dari nilai absolut perbedaan antara nilai target dan nilai prediksi. Fungsi ini sering digunakan untuk masalah regresi karena memberikan interpretasi yang intuitif berupa rata-rata kesalahan dalam unit yang sama dengan target."
   ]
  },
  {
   "cell_type": "markdown",
   "metadata": {},
   "source": [
    "Dengan mengkompilasi model dengan konfigurasi ini, maka model siap untuk proses pelatihan. Adam secara efektif menyesuaikan laju pembelajaran selama pelatihan, dan Mean Absolute Error menyediakan penilaian yang langsung tentang seberapa jauh prediksi yang dihasilkan dari nilai sebenarnya. Setelah model dikompilasi, model dapat dilanjutkan ke tahap pelatihan dengan data yang telah disiapkan sebelumnya."
   ]
  },
  {
   "cell_type": "markdown",
   "metadata": {},
   "source": [
    "Setelah model dikompilasi, langkah selanjutnya adalah melatih model dengan data pelatihan. Pelatihan model melibatkan penyesuaian bobot pada jaringan saraf berdasarkan data yang diberikan, untuk mengurangi nilai kerugian atau error yang dihasilkan oleh model.\n",
    "\n",
    "Untuk melatih model, kita menggunakan metode `fit` dari objek model. Berikut adalah detail kode yang digunakan:"
   ]
  },
  {
   "cell_type": "code",
   "execution_count": 12,
   "metadata": {},
   "outputs": [
    {
     "name": "stdout",
     "output_type": "stream",
     "text": [
      "Epoch 1/10\n",
      "\u001b[1m5/5\u001b[0m \u001b[32m━━━━━━━━━━━━━━━━━━━━\u001b[0m\u001b[37m\u001b[0m \u001b[1m1s\u001b[0m 36ms/step - loss: 0.3528 - val_loss: 0.1299\n",
      "Epoch 2/10\n",
      "\u001b[1m5/5\u001b[0m \u001b[32m━━━━━━━━━━━━━━━━━━━━\u001b[0m\u001b[37m\u001b[0m \u001b[1m0s\u001b[0m 12ms/step - loss: 0.1334 - val_loss: 0.1196\n",
      "Epoch 3/10\n",
      "\u001b[1m5/5\u001b[0m \u001b[32m━━━━━━━━━━━━━━━━━━━━\u001b[0m\u001b[37m\u001b[0m \u001b[1m0s\u001b[0m 13ms/step - loss: 0.1231 - val_loss: 0.1163\n",
      "Epoch 4/10\n",
      "\u001b[1m5/5\u001b[0m \u001b[32m━━━━━━━━━━━━━━━━━━━━\u001b[0m\u001b[37m\u001b[0m \u001b[1m0s\u001b[0m 12ms/step - loss: 0.1142 - val_loss: 0.1104\n",
      "Epoch 5/10\n",
      "\u001b[1m5/5\u001b[0m \u001b[32m━━━━━━━━━━━━━━━━━━━━\u001b[0m\u001b[37m\u001b[0m \u001b[1m0s\u001b[0m 13ms/step - loss: 0.1156 - val_loss: 0.1173\n",
      "Epoch 6/10\n",
      "\u001b[1m5/5\u001b[0m \u001b[32m━━━━━━━━━━━━━━━━━━━━\u001b[0m\u001b[37m\u001b[0m \u001b[1m0s\u001b[0m 11ms/step - loss: 0.1144 - val_loss: 0.1026\n",
      "Epoch 7/10\n",
      "\u001b[1m5/5\u001b[0m \u001b[32m━━━━━━━━━━━━━━━━━━━━\u001b[0m\u001b[37m\u001b[0m \u001b[1m0s\u001b[0m 10ms/step - loss: 0.1048 - val_loss: 0.1021\n",
      "Epoch 8/10\n",
      "\u001b[1m5/5\u001b[0m \u001b[32m━━━━━━━━━━━━━━━━━━━━\u001b[0m\u001b[37m\u001b[0m \u001b[1m0s\u001b[0m 12ms/step - loss: 0.1033 - val_loss: 0.1028\n",
      "Epoch 9/10\n",
      "\u001b[1m5/5\u001b[0m \u001b[32m━━━━━━━━━━━━━━━━━━━━\u001b[0m\u001b[37m\u001b[0m \u001b[1m0s\u001b[0m 12ms/step - loss: 0.1031 - val_loss: 0.1009\n",
      "Epoch 10/10\n",
      "\u001b[1m5/5\u001b[0m \u001b[32m━━━━━━━━━━━━━━━━━━━━\u001b[0m\u001b[37m\u001b[0m \u001b[1m0s\u001b[0m 12ms/step - loss: 0.1004 - val_loss: 0.1018\n"
     ]
    }
   ],
   "source": [
    "history = model.fit(\n",
    "    X_train, y_train,\n",
    "    validation_data=(X_valid, y_valid),\n",
    "    batch_size=256,\n",
    "    epochs=10,\n",
    ")"
   ]
  },
  {
   "cell_type": "markdown",
   "metadata": {},
   "source": [
    "* X_train, y_train: Data fitur dan label target dari set pelatihan yang akan digunakan untuk melatih model.\n",
    "* validation_data: Tuple yang berisi data validasi (X_valid, y_valid). Data validasi ini digunakan untuk mengevaluasi model setelah setiap epoch selama pelatihan, yang membantu dalam mengamati bagaimana model berperilaku terhadap data yang tidak pernah dilihat selama pelatihan.\n",
    "* batch_size: Jumlah sampel data yang diproses sebelum model memperbarui parameter internal. Di sini, 256 berarti setiap batch berisi 256 sampel data.\n",
    "* epochs: Jumlah kali seluruh dataset pelatihan dilewatkan secara keseluruhan oleh model. Di sini, 10 berarti seluruh data pelatihan akan dilewatkan sebanyak 10 kali ke dalam model."
   ]
  },
  {
   "cell_type": "markdown",
   "metadata": {},
   "source": [
    "Objek history yang dikembalikan oleh metode fit mengandung catatan nilai metrik pelatihan dan validasi setelah setiap epoch. Informasi ini berguna untuk analisis lebih lanjut, seperti visualisasi proses pelatihan, evaluasi overfitting, atau underfitting, dan penyesuaian parameter pelatihan jika diperlukan."
   ]
  },
  {
   "cell_type": "markdown",
   "metadata": {},
   "source": [
    "Proses pelatihan ini adalah inti dari pembelajaran mesin, di mana model secara aktif belajar untuk memprediksi label dari fitur dengan akurat berdasarkan data yang diberikan. Setelah pelatihan selesai, model akan siap untuk digunakan untuk membuat prediksi atau untuk evaluasi lebih lanjut."
   ]
  },
  {
   "cell_type": "markdown",
   "metadata": {},
   "source": [
    "Setelah model selesai dilatih, penting untuk mengevaluasi bagaimana model berkembang selama proses pelatihan. Salah satu cara untuk melakukan ini adalah dengan memvisualisasikan riwayat pelatihan yang termasuk kehilangan (loss) dan metrik lainnya selama setiap epoch.\n",
    "\n",
    "Untuk memudahkan visualisasi, kita dapat mengonversi data riwayat yang diperoleh dari pelatihan ke dalam `DataFrame` menggunakan pandas. Berikut adalah kode untuk melakukan konversi:"
   ]
  },
  {
   "cell_type": "code",
   "execution_count": 15,
   "metadata": {},
   "outputs": [
    {
     "data": {
      "text/plain": [
       "<Axes: >"
      ]
     },
     "execution_count": 15,
     "metadata": {},
     "output_type": "execute_result"
    },
    {
     "data": {
      "image/png": "[encoded data removed]",
      "text/plain": [
       "<Figure size 640x480 with 1 Axes>"
      ]
     },
     "metadata": {},
     "output_type": "display_data"
    }
   ],
   "source": [
    "# convert the training history to a dataframe\n",
    "history_df = pd.DataFrame(history.history)\n",
    "# use Pandas native plot method\n",
    "history_df['loss'].plot()"
   ]
  },
  {
   "cell_type": "markdown",
   "metadata": {},
   "source": [
    "Setelah data riwayat pelatihan tersedia sebagai DataFrame, kita dapat menggunakan metode plot dari pandas untuk membuat grafik. Berikut ini cara untuk memvisualisasikan grafik kehilangan (loss) selama pelatihan:\n",
    "* history.history: Objek ini berisi informasi tentang loss dan metrik lainnya yang dikumpulkan selama setiap epoch pelatihan.\n",
    "* history_df['loss']: Kode mengakses kolom 'loss' dari DataFrame, yang berisi nilai kehilangan yang dicatat pada setiap epoch.\n",
    "* plot(): Metode ini dari pandas memudahkan visualisasi data dalam bentuk grafik, di sini digunakan untuk memplot nilai 'loss'."
   ]
  },
  {
   "cell_type": "markdown",
   "metadata": {},
   "source": [
    "Visualisasi seperti ini sangat berguna untuk memahami dinamika pelatihan, seperti melihat apakah model mengalami overfitting, atau jika ada kebutuhan untuk menyesuaikan parameter pelatihan seperti laju pembelajaran atau jumlah epoch. Dengan grafik ini, kita dapat secara visual menilai seberapa cepat model belajar dan stabilisasi kehilangan selama pelatihan."
   ]
  }
 ],
 "metadata": {
  "kernelspec": {
   "display_name": "deep_learning",
   "language": "python",
   "name": "python3"
  },
  "language_info": {
   "codemirror_mode": {
    "name": "ipython",
    "version": 3
   },
   "file_extension": ".py",
   "mimetype": "text/x-python",
   "name": "python",
   "nbconvert_exporter": "python",
   "pygments_lexer": "ipython3",
   "version": "3.11.9"
  }
 },
 "nbformat": 4,
 "nbformat_minor": 2
}
