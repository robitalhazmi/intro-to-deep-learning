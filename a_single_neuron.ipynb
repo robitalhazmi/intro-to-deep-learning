{
 "cells": [
  {
   "cell_type": "markdown",
   "metadata": {},
   "source": [
    "# A Single Neuron"
   ]
  },
  {
   "cell_type": "markdown",
   "metadata": {},
   "source": [
    "Learn about linear units, the building blocks of deep learning."
   ]
  },
  {
   "cell_type": "markdown",
   "metadata": {},
   "source": [
    "## Linear Units in Keras"
   ]
  },
  {
   "cell_type": "markdown",
   "metadata": {},
   "source": [
    "Kode ini adalah contoh sederhana dari implementasi jaringan saraf tiruan (neural network) menggunakan TensorFlow, sebuah library populer untuk deep learning.\n",
    "\n",
    "Pertama, kita mengimpor TensorFlow dan modul layers dari Keras, yang merupakan antarmuka tingkat tinggi untuk membangun dan melatih model deep learning."
   ]
  },
  {
   "cell_type": "markdown",
   "metadata": {},
   "source": [
    "Selanjutnya, kita membangun model neural network. Model ini adalah model sequential, yang berarti kita akan menumpuk lapisan-lapisan secara berurutan."
   ]
  },
  {
   "cell_type": "code",
   "execution_count": 1,
   "metadata": {},
   "outputs": [
    {
     "name": "stderr",
     "output_type": "stream",
     "text": [
      "c:\\Users\\robit\\miniconda3\\envs\\deep_learning\\Lib\\site-packages\\keras\\src\\layers\\core\\dense.py:87: UserWarning: Do not pass an `input_shape`/`input_dim` argument to a layer. When using Sequential models, prefer using an `Input(shape)` object as the first layer in the model instead.\n",
      "  super().__init__(activity_regularizer=activity_regularizer, **kwargs)\n"
     ]
    }
   ],
   "source": [
    "from tensorflow import keras\n",
    "from tensorflow.keras import layers\n",
    "\n",
    "# Create a network with 1 linear unit\n",
    "model = keras.Sequential([\n",
    "    layers.Dense(units=1, input_shape=[3])\n",
    "])"
   ]
  },
  {
   "cell_type": "markdown",
   "metadata": {},
   "source": [
    "* layers.Dense: Ini adalah jenis lapisan yang digunakan dalam model, yaitu lapisan Dense (lapisan yang sepenuhnya terhubung), yang memiliki satu unit.\n",
    "* units=1: Menentukan jumlah unit (neuron) dalam lapisan Dense.\n",
    "* input_shape=[3]: Menentukan bentuk input yang akan diterima oleh model. Dalam hal ini, kita memiliki input dengan panjang 3. Ini berarti model akan menerima input dengan tiga fitur.\n",
    "\n",
    "Dengan demikian, model ini terdiri dari satu lapisan Dense dengan satu unit, yang akan menerima input dengan panjang 3."
   ]
  },
  {
   "cell_type": "markdown",
   "metadata": {},
   "source": []
  }
 ],
 "metadata": {
  "kernelspec": {
   "display_name": "deep_learning",
   "language": "python",
   "name": "python3"
  },
  "language_info": {
   "codemirror_mode": {
    "name": "ipython",
    "version": 3
   },
   "file_extension": ".py",
   "mimetype": "text/x-python",
   "name": "python",
   "nbconvert_exporter": "python",
   "pygments_lexer": "ipython3",
   "version": "3.11.9"
  }
 },
 "nbformat": 4,
 "nbformat_minor": 2
}
