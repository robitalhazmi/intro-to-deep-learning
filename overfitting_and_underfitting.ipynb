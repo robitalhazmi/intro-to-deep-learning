{
  "cells": [
    {
      "cell_type": "markdown",
      "id": "1e631ace-4e66-439b-a033-64f980d665cf",
      "metadata": {
        "id": "1e631ace-4e66-439b-a033-64f980d665cf"
      },
      "source": [
        "# Overfitting and Underfitting"
      ]
    },
    {
      "cell_type": "markdown",
      "id": "6f2ef9ec-fafb-417f-b0be-2a030b2cc3b6",
      "metadata": {
        "id": "6f2ef9ec-fafb-417f-b0be-2a030b2cc3b6"
      },
      "source": [
        "Improve performance with extra capacity or early stopping."
      ]
    },
    {
      "cell_type": "markdown",
      "id": "6f7af94a-c863-48a6-bab0-ca1a95003dae",
      "metadata": {
        "id": "6f7af94a-c863-48a6-bab0-ca1a95003dae"
      },
      "source": [
        "## Capacity"
      ]
    },
    {
      "cell_type": "code",
      "execution_count": null,
      "id": "4e931cf0-599e-4727-b4bb-cda92f53d1fa",
      "metadata": {
        "id": "4e931cf0-599e-4727-b4bb-cda92f53d1fa"
      },
      "outputs": [],
      "source": [
        "from tensorflow import keras\n",
        "from tensorflow.keras import layers\n",
        "\n",
        "model = keras.Sequential([\n",
        "    layers.Dense(16, activation='relu'),\n",
        "    layers.Dense(1),\n",
        "])\n",
        "\n",
        "wider = keras.Sequential([\n",
        "    layers.Dense(32, activation='relu'),\n",
        "    layers.Dense(1),\n",
        "])\n",
        "\n",
        "deeper = keras.Sequential([\n",
        "    layers.Dense(16, activation='relu'),\n",
        "    layers.Dense(16, activation='relu'),\n",
        "    layers.Dense(1),\n",
        "])"
      ]
    },
    {
      "cell_type": "markdown",
      "source": [
        "1. Model Pertama (model):\n",
        "\n",
        "  * Model ini adalah model neural network yang dibuat menggunakan Keras.\n",
        "  * Model ini memiliki dua lapisan (layer) Dense (fully connected).\n",
        "  * Lapisan pertama memiliki 16 unit dengan fungsi aktivasi ReLU (Rectified Linear Unit).\n",
        "  * Lapisan kedua memiliki 1 unit tanpa fungsi aktivasi (output layer).\n",
        "  * Model ini cocok untuk masalah regresi karena outputnya adalah nilai kontinu.\n",
        "\n",
        "2. Model Kedua (wider):\n",
        "\n",
        "  * Model ini mirip dengan model pertama, tetapi memiliki lapisan pertama yang lebih lebar (32 unit).\n",
        "  * Lapisan pertama menggunakan fungsi aktivasi ReLU.\n",
        "  * Lapisan kedua tetap memiliki 1 unit tanpa fungsi aktivasi.\n",
        "\n",
        "3. Model Ketiga (deeper):\n",
        "\n",
        "  * Model ini juga memiliki dua lapisan Dense.\n",
        "  * Lapisan pertama dan kedua masing-masing memiliki 16 unit dengan fungsi aktivasi ReLU.\n",
        "  * Lapisan ketiga memiliki 1 unit tanpa fungsi aktivasi.\n"
      ],
      "metadata": {
        "id": "as9IlxhfAdlU"
      },
      "id": "as9IlxhfAdlU"
    },
    {
      "cell_type": "markdown",
      "source": [
        "## Early Stopping"
      ],
      "metadata": {
        "id": "jGu3f1Perj_V"
      },
      "id": "jGu3f1Perj_V"
    },
    {
      "cell_type": "markdown",
      "source": [
        "### Adding Early Stopping"
      ],
      "metadata": {
        "id": "tbWAN6Warosn"
      },
      "id": "tbWAN6Warosn"
    },
    {
      "cell_type": "markdown",
      "source": [
        "* EarlyStopping adalah callback yang digunakan selama proses pelatihan (training) model neural network.\n",
        "* Tujuannya adalah untuk menghentikan pelatihan lebih awal jika tidak ada perbaikan yang signifikan dalam metrik tertentu (misalnya, loss atau akurasi) selama beberapa epoch.\n",
        "* Parameter yang ditentukan pada kode di bawah:\n",
        "  * min_delta: Ini adalah perubahan minimum yang dianggap sebagai perbaikan. Jika perubahan lebih kecil dari nilai ini, pelatihan akan dihentikan.\n",
        "  * patience: Jumlah epoch yang akan ditunggu sebelum menghentikan pelatihan jika tidak ada perbaikan.\n",
        "  * restore_best_weights: Jika diatur ke True, bobot model akan dikembalikan ke bobot terbaik yang ditemukan selama pelatihan.\n"
      ],
      "metadata": {
        "id": "mbIQEpjqBJ0U"
      },
      "id": "mbIQEpjqBJ0U"
    },
    {
      "cell_type": "code",
      "execution_count": null,
      "id": "f26ca68e-0037-4787-9e31-9ad3e2e89819",
      "metadata": {
        "id": "f26ca68e-0037-4787-9e31-9ad3e2e89819"
      },
      "outputs": [],
      "source": [
        "from tensorflow.keras.callbacks import EarlyStopping\n",
        "\n",
        "early_stopping = EarlyStopping(\n",
        "    min_delta=0.001, # minimium amount of change to count as an improvement\n",
        "    patience=20, # how many epochs to wait before stopping\n",
        "    restore_best_weights=True,\n",
        ")"
      ]
    },
    {
      "cell_type": "markdown",
      "source": [
        "## Example - Train a Model with Early Stopping"
      ],
      "metadata": {
        "id": "QJlv04O5rvfN"
      },
      "id": "QJlv04O5rvfN"
    },
    {
      "cell_type": "markdown",
      "source": [
        "Skrip Python ini dirancang untuk mempersiapkan dataset untuk membangun model pembelajaran mesin yang memprediksi kualitas anggur merah. Ini melibatkan membaca dataset, membuat pembagian data latihan dan validasi, penskalaan fitur, dan pemisahan fitur dari variabel target.\n",
        "\n",
        "Skrip ini dimulai dengan mengimpor pustaka yang diperlukan:"
      ],
      "metadata": {
        "id": "CBgbfaEcBvNB"
      },
      "id": "CBgbfaEcBvNB"
    },
    {
      "cell_type": "code",
      "source": [
        "import pandas as pd\n",
        "from IPython.display import display\n",
        "\n",
        "red_wine = pd.read_csv('./red-wine.csv')\n",
        "\n",
        "# Create training and validation splits\n",
        "df_train = red_wine.sample(frac=0.7, random_state=0)\n",
        "df_valid = red_wine.drop(df_train.index)\n",
        "display(df_train.head(4))\n",
        "\n",
        "# Scale to [0, 1]\n",
        "max_ = df_train.max(axis=0)\n",
        "min_ = df_train.min(axis=0)\n",
        "df_train = (df_train - min_) / (max_ - min_)\n",
        "df_valid = (df_valid - min_) / (max_ - min_)\n",
        "\n",
        "# Split features and target\n",
        "X_train = df_train.drop('quality', axis=1)\n",
        "X_valid = df_valid.drop('quality', axis=1)\n",
        "y_train = df_train['quality']\n",
        "y_valid = df_valid['quality']"
      ],
      "metadata": {
        "colab": {
          "base_uri": "https://localhost:8080/",
          "height": 175
        },
        "id": "CqEzo5wxrrF_",
        "outputId": "ce8218b5-4f3d-4f94-85f8-fc79261a9f13"
      },
      "id": "CqEzo5wxrrF_",
      "execution_count": null,
      "outputs": [
        {
          "output_type": "display_data",
          "data": {
            "text/plain": [
              "      fixed acidity  volatile acidity  citric acid  residual sugar  chlorides  \\\n",
              "1109           10.8             0.470         0.43            2.10      0.171   \n",
              "1032            8.1             0.820         0.00            4.10      0.095   \n",
              "1002            9.1             0.290         0.33            2.05      0.063   \n",
              "487            10.2             0.645         0.36            1.80      0.053   \n",
              "\n",
              "      free sulfur dioxide  total sulfur dioxide  density    pH  sulphates  \\\n",
              "1109                 27.0                  66.0  0.99820  3.17       0.76   \n",
              "1032                  5.0                  14.0  0.99854  3.36       0.53   \n",
              "1002                 13.0                  27.0  0.99516  3.26       0.84   \n",
              "487                   5.0                  14.0  0.99820  3.17       0.42   \n",
              "\n",
              "      alcohol  quality  \n",
              "1109     10.8        6  \n",
              "1032      9.6        5  \n",
              "1002     11.7        7  \n",
              "487      10.0        6  "
            ],
            "text/html": [
              "\n",
              "  <div id=\"df-86729daa-b6d0-401a-9bc4-c6bcd57c727e\" class=\"colab-df-container\">\n",
              "    <div>\n",
              "<style scoped>\n",
              "    .dataframe tbody tr th:only-of-type {\n",
              "        vertical-align: middle;\n",
              "    }\n",
              "\n",
              "    .dataframe tbody tr th {\n",
              "        vertical-align: top;\n",
              "    }\n",
              "\n",
              "    .dataframe thead th {\n",
              "        text-align: right;\n",
              "    }\n",
              "</style>\n",
              "<table border=\"1\" class=\"dataframe\">\n",
              "  <thead>\n",
              "    <tr style=\"text-align: right;\">\n",
              "      <th></th>\n",
              "      <th>fixed acidity</th>\n",
              "      <th>volatile acidity</th>\n",
              "      <th>citric acid</th>\n",
              "      <th>residual sugar</th>\n",
              "      <th>chlorides</th>\n",
              "      <th>free sulfur dioxide</th>\n",
              "      <th>total sulfur dioxide</th>\n",
              "      <th>density</th>\n",
              "      <th>pH</th>\n",
              "      <th>sulphates</th>\n",
              "      <th>alcohol</th>\n",
              "      <th>quality</th>\n",
              "    </tr>\n",
              "  </thead>\n",
              "  <tbody>\n",
              "    <tr>\n",
              "      <th>1109</th>\n",
              "      <td>10.8</td>\n",
              "      <td>0.470</td>\n",
              "      <td>0.43</td>\n",
              "      <td>2.10</td>\n",
              "      <td>0.171</td>\n",
              "      <td>27.0</td>\n",
              "      <td>66.0</td>\n",
              "      <td>0.99820</td>\n",
              "      <td>3.17</td>\n",
              "      <td>0.76</td>\n",
              "      <td>10.8</td>\n",
              "      <td>6</td>\n",
              "    </tr>\n",
              "    <tr>\n",
              "      <th>1032</th>\n",
              "      <td>8.1</td>\n",
              "      <td>0.820</td>\n",
              "      <td>0.00</td>\n",
              "      <td>4.10</td>\n",
              "      <td>0.095</td>\n",
              "      <td>5.0</td>\n",
              "      <td>14.0</td>\n",
              "      <td>0.99854</td>\n",
              "      <td>3.36</td>\n",
              "      <td>0.53</td>\n",
              "      <td>9.6</td>\n",
              "      <td>5</td>\n",
              "    </tr>\n",
              "    <tr>\n",
              "      <th>1002</th>\n",
              "      <td>9.1</td>\n",
              "      <td>0.290</td>\n",
              "      <td>0.33</td>\n",
              "      <td>2.05</td>\n",
              "      <td>0.063</td>\n",
              "      <td>13.0</td>\n",
              "      <td>27.0</td>\n",
              "      <td>0.99516</td>\n",
              "      <td>3.26</td>\n",
              "      <td>0.84</td>\n",
              "      <td>11.7</td>\n",
              "      <td>7</td>\n",
              "    </tr>\n",
              "    <tr>\n",
              "      <th>487</th>\n",
              "      <td>10.2</td>\n",
              "      <td>0.645</td>\n",
              "      <td>0.36</td>\n",
              "      <td>1.80</td>\n",
              "      <td>0.053</td>\n",
              "      <td>5.0</td>\n",
              "      <td>14.0</td>\n",
              "      <td>0.99820</td>\n",
              "      <td>3.17</td>\n",
              "      <td>0.42</td>\n",
              "      <td>10.0</td>\n",
              "      <td>6</td>\n",
              "    </tr>\n",
              "  </tbody>\n",
              "</table>\n",
              "</div>\n",
              "    <div class=\"colab-df-buttons\">\n",
              "\n",
              "  <div class=\"colab-df-container\">\n",
              "    <button class=\"colab-df-convert\" onclick=\"convertToInteractive('df-86729daa-b6d0-401a-9bc4-c6bcd57c727e')\"\n",
              "            title=\"Convert this dataframe to an interactive table.\"\n",
              "            style=\"display:none;\">\n",
              "\n",
              "  <svg xmlns=\"http://www.w3.org/2000/svg\" height=\"24px\" viewBox=\"0 -960 960 960\">\n",
              "    <path d=\"M120-120v-720h720v720H120Zm60-500h600v-160H180v160Zm220 220h160v-160H400v160Zm0 220h160v-160H400v160ZM180-400h160v-160H180v160Zm440 0h160v-160H620v160ZM180-180h160v-160H180v160Zm440 0h160v-160H620v160Z\"/>\n",
              "  </svg>\n",
              "    </button>\n",
              "\n",
              "  <style>\n",
              "    .colab-df-container {\n",
              "      display:flex;\n",
              "      gap: 12px;\n",
              "    }\n",
              "\n",
              "    .colab-df-convert {\n",
              "      background-color: #E8F0FE;\n",
              "      border: none;\n",
              "      border-radius: 50%;\n",
              "      cursor: pointer;\n",
              "      display: none;\n",
              "      fill: #1967D2;\n",
              "      height: 32px;\n",
              "      padding: 0 0 0 0;\n",
              "      width: 32px;\n",
              "    }\n",
              "\n",
              "    .colab-df-convert:hover {\n",
              "      background-color: #E2EBFA;\n",
              "      box-shadow: 0px 1px 2px rgba(60, 64, 67, 0.3), 0px 1px 3px 1px rgba(60, 64, 67, 0.15);\n",
              "      fill: #174EA6;\n",
              "    }\n",
              "\n",
              "    .colab-df-buttons div {\n",
              "      margin-bottom: 4px;\n",
              "    }\n",
              "\n",
              "    [theme=dark] .colab-df-convert {\n",
              "      background-color: #3B4455;\n",
              "      fill: #D2E3FC;\n",
              "    }\n",
              "\n",
              "    [theme=dark] .colab-df-convert:hover {\n",
              "      background-color: #434B5C;\n",
              "      box-shadow: 0px 1px 3px 1px rgba(0, 0, 0, 0.15);\n",
              "      filter: drop-shadow(0px 1px 2px rgba(0, 0, 0, 0.3));\n",
              "      fill: #FFFFFF;\n",
              "    }\n",
              "  </style>\n",
              "\n",
              "    <script>\n",
              "      const buttonEl =\n",
              "        document.querySelector('#df-86729daa-b6d0-401a-9bc4-c6bcd57c727e button.colab-df-convert');\n",
              "      buttonEl.style.display =\n",
              "        google.colab.kernel.accessAllowed ? 'block' : 'none';\n",
              "\n",
              "      async function convertToInteractive(key) {\n",
              "        const element = document.querySelector('#df-86729daa-b6d0-401a-9bc4-c6bcd57c727e');\n",
              "        const dataTable =\n",
              "          await google.colab.kernel.invokeFunction('convertToInteractive',\n",
              "                                                    [key], {});\n",
              "        if (!dataTable) return;\n",
              "\n",
              "        const docLinkHtml = 'Like what you see? Visit the ' +\n",
              "          '<a target=\"_blank\" href=https://colab.research.google.com/notebooks/data_table.ipynb>data table notebook</a>'\n",
              "          + ' to learn more about interactive tables.';\n",
              "        element.innerHTML = '';\n",
              "        dataTable['output_type'] = 'display_data';\n",
              "        await google.colab.output.renderOutput(dataTable, element);\n",
              "        const docLink = document.createElement('div');\n",
              "        docLink.innerHTML = docLinkHtml;\n",
              "        element.appendChild(docLink);\n",
              "      }\n",
              "    </script>\n",
              "  </div>\n",
              "\n",
              "\n",
              "<div id=\"df-ea152885-53e9-4b7c-b0b9-448bd297d5b8\">\n",
              "  <button class=\"colab-df-quickchart\" onclick=\"quickchart('df-ea152885-53e9-4b7c-b0b9-448bd297d5b8')\"\n",
              "            title=\"Suggest charts\"\n",
              "            style=\"display:none;\">\n",
              "\n",
              "<svg xmlns=\"http://www.w3.org/2000/svg\" height=\"24px\"viewBox=\"0 0 24 24\"\n",
              "     width=\"24px\">\n",
              "    <g>\n",
              "        <path d=\"M19 3H5c-1.1 0-2 .9-2 2v14c0 1.1.9 2 2 2h14c1.1 0 2-.9 2-2V5c0-1.1-.9-2-2-2zM9 17H7v-7h2v7zm4 0h-2V7h2v10zm4 0h-2v-4h2v4z\"/>\n",
              "    </g>\n",
              "</svg>\n",
              "  </button>\n",
              "\n",
              "<style>\n",
              "  .colab-df-quickchart {\n",
              "      --bg-color: #E8F0FE;\n",
              "      --fill-color: #1967D2;\n",
              "      --hover-bg-color: #E2EBFA;\n",
              "      --hover-fill-color: #174EA6;\n",
              "      --disabled-fill-color: #AAA;\n",
              "      --disabled-bg-color: #DDD;\n",
              "  }\n",
              "\n",
              "  [theme=dark] .colab-df-quickchart {\n",
              "      --bg-color: #3B4455;\n",
              "      --fill-color: #D2E3FC;\n",
              "      --hover-bg-color: #434B5C;\n",
              "      --hover-fill-color: #FFFFFF;\n",
              "      --disabled-bg-color: #3B4455;\n",
              "      --disabled-fill-color: #666;\n",
              "  }\n",
              "\n",
              "  .colab-df-quickchart {\n",
              "    background-color: var(--bg-color);\n",
              "    border: none;\n",
              "    border-radius: 50%;\n",
              "    cursor: pointer;\n",
              "    display: none;\n",
              "    fill: var(--fill-color);\n",
              "    height: 32px;\n",
              "    padding: 0;\n",
              "    width: 32px;\n",
              "  }\n",
              "\n",
              "  .colab-df-quickchart:hover {\n",
              "    background-color: var(--hover-bg-color);\n",
              "    box-shadow: 0 1px 2px rgba(60, 64, 67, 0.3), 0 1px 3px 1px rgba(60, 64, 67, 0.15);\n",
              "    fill: var(--button-hover-fill-color);\n",
              "  }\n",
              "\n",
              "  .colab-df-quickchart-complete:disabled,\n",
              "  .colab-df-quickchart-complete:disabled:hover {\n",
              "    background-color: var(--disabled-bg-color);\n",
              "    fill: var(--disabled-fill-color);\n",
              "    box-shadow: none;\n",
              "  }\n",
              "\n",
              "  .colab-df-spinner {\n",
              "    border: 2px solid var(--fill-color);\n",
              "    border-color: transparent;\n",
              "    border-bottom-color: var(--fill-color);\n",
              "    animation:\n",
              "      spin 1s steps(1) infinite;\n",
              "  }\n",
              "\n",
              "  @keyframes spin {\n",
              "    0% {\n",
              "      border-color: transparent;\n",
              "      border-bottom-color: var(--fill-color);\n",
              "      border-left-color: var(--fill-color);\n",
              "    }\n",
              "    20% {\n",
              "      border-color: transparent;\n",
              "      border-left-color: var(--fill-color);\n",
              "      border-top-color: var(--fill-color);\n",
              "    }\n",
              "    30% {\n",
              "      border-color: transparent;\n",
              "      border-left-color: var(--fill-color);\n",
              "      border-top-color: var(--fill-color);\n",
              "      border-right-color: var(--fill-color);\n",
              "    }\n",
              "    40% {\n",
              "      border-color: transparent;\n",
              "      border-right-color: var(--fill-color);\n",
              "      border-top-color: var(--fill-color);\n",
              "    }\n",
              "    60% {\n",
              "      border-color: transparent;\n",
              "      border-right-color: var(--fill-color);\n",
              "    }\n",
              "    80% {\n",
              "      border-color: transparent;\n",
              "      border-right-color: var(--fill-color);\n",
              "      border-bottom-color: var(--fill-color);\n",
              "    }\n",
              "    90% {\n",
              "      border-color: transparent;\n",
              "      border-bottom-color: var(--fill-color);\n",
              "    }\n",
              "  }\n",
              "</style>\n",
              "\n",
              "  <script>\n",
              "    async function quickchart(key) {\n",
              "      const quickchartButtonEl =\n",
              "        document.querySelector('#' + key + ' button');\n",
              "      quickchartButtonEl.disabled = true;  // To prevent multiple clicks.\n",
              "      quickchartButtonEl.classList.add('colab-df-spinner');\n",
              "      try {\n",
              "        const charts = await google.colab.kernel.invokeFunction(\n",
              "            'suggestCharts', [key], {});\n",
              "      } catch (error) {\n",
              "        console.error('Error during call to suggestCharts:', error);\n",
              "      }\n",
              "      quickchartButtonEl.classList.remove('colab-df-spinner');\n",
              "      quickchartButtonEl.classList.add('colab-df-quickchart-complete');\n",
              "    }\n",
              "    (() => {\n",
              "      let quickchartButtonEl =\n",
              "        document.querySelector('#df-ea152885-53e9-4b7c-b0b9-448bd297d5b8 button');\n",
              "      quickchartButtonEl.style.display =\n",
              "        google.colab.kernel.accessAllowed ? 'block' : 'none';\n",
              "    })();\n",
              "  </script>\n",
              "</div>\n",
              "    </div>\n",
              "  </div>\n"
            ],
            "application/vnd.google.colaboratory.intrinsic+json": {
              "type": "dataframe",
              "summary": "{\n  \"name\": \"y_valid = df_valid['quality']\",\n  \"rows\": 4,\n  \"fields\": [\n    {\n      \"column\": \"fixed acidity\",\n      \"properties\": {\n        \"dtype\": \"number\",\n        \"std\": 1.19582607431014,\n        \"min\": 8.1,\n        \"max\": 10.8,\n        \"num_unique_values\": 4,\n        \"samples\": [\n          8.1,\n          10.2,\n          10.8\n        ],\n        \"semantic_type\": \"\",\n        \"description\": \"\"\n      }\n    },\n    {\n      \"column\": \"volatile acidity\",\n      \"properties\": {\n        \"dtype\": \"number\",\n        \"std\": 0.22786600594794007,\n        \"min\": 0.29,\n        \"max\": 0.82,\n        \"num_unique_values\": 4,\n        \"samples\": [\n          0.82,\n          0.645,\n          0.47\n        ],\n        \"semantic_type\": \"\",\n        \"description\": \"\"\n      }\n    },\n    {\n      \"column\": \"citric acid\",\n      \"properties\": {\n        \"dtype\": \"number\",\n        \"std\": 0.19131126469708992,\n        \"min\": 0.0,\n        \"max\": 0.43,\n        \"num_unique_values\": 4,\n        \"samples\": [\n          0.0,\n          0.36,\n          0.43\n        ],\n        \"semantic_type\": \"\",\n        \"description\": \"\"\n      }\n    },\n    {\n      \"column\": \"residual sugar\",\n      \"properties\": {\n        \"dtype\": \"number\",\n        \"std\": 1.0664387777395692,\n        \"min\": 1.8,\n        \"max\": 4.1,\n        \"num_unique_values\": 4,\n        \"samples\": [\n          4.1,\n          1.8,\n          2.1\n        ],\n        \"semantic_type\": \"\",\n        \"description\": \"\"\n      }\n    },\n    {\n      \"column\": \"chlorides\",\n      \"properties\": {\n        \"dtype\": \"number\",\n        \"std\": 0.05342596122984905,\n        \"min\": 0.053,\n        \"max\": 0.171,\n        \"num_unique_values\": 4,\n        \"samples\": [\n          0.095,\n          0.053,\n          0.171\n        ],\n        \"semantic_type\": \"\",\n        \"description\": \"\"\n      }\n    },\n    {\n      \"column\": \"free sulfur dioxide\",\n      \"properties\": {\n        \"dtype\": \"number\",\n        \"std\": 10.376254944182254,\n        \"min\": 5.0,\n        \"max\": 27.0,\n        \"num_unique_values\": 3,\n        \"samples\": [\n          27.0,\n          5.0,\n          13.0\n        ],\n        \"semantic_type\": \"\",\n        \"description\": \"\"\n      }\n    },\n    {\n      \"column\": \"total sulfur dioxide\",\n      \"properties\": {\n        \"dtype\": \"number\",\n        \"std\": 24.608602831801186,\n        \"min\": 14.0,\n        \"max\": 66.0,\n        \"num_unique_values\": 3,\n        \"samples\": [\n          66.0,\n          14.0,\n          27.0\n        ],\n        \"semantic_type\": \"\",\n        \"description\": \"\"\n      }\n    },\n    {\n      \"column\": \"density\",\n      \"properties\": {\n        \"dtype\": \"number\",\n        \"std\": 0.0015847923102623143,\n        \"min\": 0.99516,\n        \"max\": 0.99854,\n        \"num_unique_values\": 3,\n        \"samples\": [\n          0.9982,\n          0.99854,\n          0.99516\n        ],\n        \"semantic_type\": \"\",\n        \"description\": \"\"\n      }\n    },\n    {\n      \"column\": \"pH\",\n      \"properties\": {\n        \"dtype\": \"number\",\n        \"std\": 0.09055385138137413,\n        \"min\": 3.17,\n        \"max\": 3.36,\n        \"num_unique_values\": 3,\n        \"samples\": [\n          3.17,\n          3.36,\n          3.26\n        ],\n        \"semantic_type\": \"\",\n        \"description\": \"\"\n      }\n    },\n    {\n      \"column\": \"sulphates\",\n      \"properties\": {\n        \"dtype\": \"number\",\n        \"std\": 0.19568256607747833,\n        \"min\": 0.42,\n        \"max\": 0.84,\n        \"num_unique_values\": 4,\n        \"samples\": [\n          0.53,\n          0.42,\n          0.76\n        ],\n        \"semantic_type\": \"\",\n        \"description\": \"\"\n      }\n    },\n    {\n      \"column\": \"alcohol\",\n      \"properties\": {\n        \"dtype\": \"number\",\n        \"std\": 0.9287087810503354,\n        \"min\": 9.6,\n        \"max\": 11.7,\n        \"num_unique_values\": 4,\n        \"samples\": [\n          9.6,\n          10.0,\n          10.8\n        ],\n        \"semantic_type\": \"\",\n        \"description\": \"\"\n      }\n    },\n    {\n      \"column\": \"quality\",\n      \"properties\": {\n        \"dtype\": \"number\",\n        \"std\": 0,\n        \"min\": 5,\n        \"max\": 7,\n        \"num_unique_values\": 3,\n        \"samples\": [\n          6,\n          5,\n          7\n        ],\n        \"semantic_type\": \"\",\n        \"description\": \"\"\n      }\n    }\n  ]\n}"
            }
          },
          "metadata": {}
        }
      ]
    },
    {
      "cell_type": "markdown",
      "source": [
        "* pandas (sebagai pd): Pustaka manipulasi dan analisis data yang kuat.\n",
        "* display dari IPython.display: Fungsi untuk menampilkan objek Python dalam format yang lebih kaya.\n",
        "\n",
        "Di sini, red_wine adalah objek DataFrame yang berisi data dari file 'red-wine.csv'.\n",
        "\n",
        "Dataset secara acak dibagi menjadi set data latihan dan validasi untuk memastikan model dapat dilatih dan divalidasi pada set data yang berbeda:\n",
        "* df_train dibuat dengan mengambil sampel 70% data dari red_wine menggunakan sample(frac=0.7, random_state=0), di mana random_state memastikan reproduktibilitas.\n",
        "* df_valid diperoleh dengan menghapus indeks df_train dari red_wine, memastikan tidak ada tumpang tindih antara data latihan dan validasi.\n",
        "\n",
        "Penskalaan fitur penting untuk banyak algoritma pembelajaran mesin agar berperforma baik. Di sini, kami menyesuaikan skala fitur ke rentang [0, 1]:\n",
        "* max_ dan min_ menghitung nilai maksimum dan minimum untuk setiap kolom di df_train.\n",
        "* Baik df_train maupun df_valid diubah skala menggunakan nilai maksimum dan minimum ini untuk memastikan konsistensi dalam penskalaan.\n",
        "\n",
        "Akhirnya, fitur dan variabel target ('quality') dipisahkan untuk dataset latihan dan validasi:\n",
        "* X_train dan X_valid berisi fitur.\n",
        "* y_train dan y_valid berisi variabel target.\n",
        "\n",
        "Persiapan ini memungkinkan data untuk dengan mudah digunakan untuk melatih model pembelajaran mesin untuk memprediksi kualitas anggur merah."
      ],
      "metadata": {
        "id": "45XLVZg5BxuQ"
      },
      "id": "45XLVZg5BxuQ"
    },
    {
      "cell_type": "code",
      "source": [
        "from tensorflow import keras\n",
        "from tensorflow.keras import layers, callbacks\n",
        "\n",
        "early_stopping = callbacks.EarlyStopping(\n",
        "    min_delta=0.001, # minimium amount of change to count as an improvement\n",
        "    patience=20, # how many epochs to wait before stopping\n",
        "    restore_best_weights=True,\n",
        ")\n",
        "\n",
        "model = keras.Sequential([\n",
        "    layers.Dense(512, activation='relu', input_shape=[11]),\n",
        "    layers.Dense(512, activation='relu'),\n",
        "    layers.Dense(512, activation='relu'),\n",
        "    layers.Dense(1),\n",
        "])\n",
        "model.compile(\n",
        "    optimizer='adam',\n",
        "    loss='mae',\n",
        ")"
      ],
      "metadata": {
        "id": "Tkcfa81_r26Y"
      },
      "id": "Tkcfa81_r26Y",
      "execution_count": null,
      "outputs": []
    },
    {
      "cell_type": "markdown",
      "source": [
        "1. Arsitektur Model:\n",
        "  * Model jaringan saraf dibuat menggunakan Keras.\n",
        "  * Model ini terdiri dari empat lapisan:\n",
        "    * Lapisan pertama (Dense) memiliki 512 unit dengan fungsi aktivasi ReLU (Rectified Linear Unit). Lapisan ini mengambil bentuk input dengan 11 fitur.\n",
        "    * Lapisan kedua dan ketiga juga merupakan lapisan Dense dengan 512 unit masing-masing dan fungsi aktivasi ReLU.\n",
        "    * Lapisan terakhir adalah lapisan Dense lainnya dengan 1 unit (lapisan output).\n",
        "  * Arsitektur ini cocok untuk tugas regresi karena outputnya adalah nilai kontinu.\n",
        "\n",
        "2. Kompilasi:\n",
        "  * Metode model.compile digunakan untuk mengonfigurasi proses pelatihan.\n",
        "  * Optimizer Adam ('adam') dan Mean Absolute Error ('mae') dipilih sebagai fungsi loss.\n",
        "  * Optimizer menyesuaikan bobot model selama pelatihan, dan fungsi loss mengukur perbedaan antara nilai yang diprediksi dan nilai target sebenarnya.\n"
      ],
      "metadata": {
        "id": "GNKdVw5SCOD1"
      },
      "id": "GNKdVw5SCOD1"
    },
    {
      "cell_type": "code",
      "source": [
        "history = model.fit(\n",
        "    X_train, y_train,\n",
        "    validation_data=(X_valid, y_valid),\n",
        "    batch_size=256,\n",
        "    epochs=500,\n",
        "    callbacks=[early_stopping], # put your callbacks in a list\n",
        "    verbose=0,  # turn off training log\n",
        ")\n",
        "\n",
        "history_df = pd.DataFrame(history.history)\n",
        "history_df.loc[:, ['loss', 'val_loss']].plot();\n",
        "print(\"Minimum validation loss: {}\".format(history_df['val_loss'].min()))"
      ],
      "metadata": {
        "colab": {
          "base_uri": "https://localhost:8080/",
          "height": 449
        },
        "id": "oDa3mIoVsID9",
        "outputId": "31ec2058-3fb3-40d1-9d6b-36dd41a83f06"
      },
      "id": "oDa3mIoVsID9",
      "execution_count": null,
      "outputs": [
        {
          "output_type": "stream",
          "name": "stdout",
          "text": [
            "Minimum validation loss: 0.09052654355764389\n"
          ]
        },
        {
          "output_type": "display_data",
          "data": {
            "text/plain": [
              "<Figure size 640x480 with 1 Axes>"
            ],
            "image/png": "[encoded data removed]"
          },
          "metadata": {}
        }
      ]
    },
    {
      "cell_type": "markdown",
      "source": [
        "1. Pelatihan Model:\n",
        "  * Metode model.fit digunakan untuk melatih model.\n",
        "  * Parameter yang digunakan:\n",
        "    * X_train dan y_train: Data pelatihan (fitur dan target).\n",
        "    * validation_data: Data validasi (fitur dan target) untuk memantau performa model selama pelatihan.\n",
        "    * batch_size: Jumlah sampel yang diproses dalam setiap iterasi pelatihan.\n",
        "    * epochs: Jumlah epoch (iterasi) pelatihan.\n",
        "    * callbacks: Callback yang digunakan selama pelatihan (dalam hal ini, early_stopping).\n",
        "    * verbose: Mengatur apakah log pelatihan ditampilkan (dalam hal ini, diatur ke 0 untuk mematikan log).\n",
        "\n",
        "2. Visualisasi Loss:\n",
        "  * DataFrame dibuat dari riwayat pelatihan (history_df) yang berisi nilai loss (Mean Absolute Error) pada setiap epoch.\n",
        "  * Grafik loss pelatihan (loss) dan loss validasi (val_loss) kemudian diplot seiring dengan jumlah epoch.\n",
        "  * Nilai minimum loss validasi dicetak menggunakan pernyataan print.\n"
      ],
      "metadata": {
        "id": "nsNVmULXC-Bm"
      },
      "id": "nsNVmULXC-Bm"
    },
    {
      "cell_type": "code",
      "source": [],
      "metadata": {
        "id": "6_xzWr5LDNlj"
      },
      "id": "6_xzWr5LDNlj",
      "execution_count": null,
      "outputs": []
    }
  ],
  "metadata": {
    "kernelspec": {
      "display_name": "Python 3",
      "name": "python3"
    },
    "language_info": {
      "codemirror_mode": {
        "name": "ipython",
        "version": 3
      },
      "file_extension": ".py",
      "mimetype": "text/x-python",
      "name": "python",
      "nbconvert_exporter": "python",
      "pygments_lexer": "ipython3",
      "version": "3.9.12"
    },
    "colab": {
      "provenance": [],
      "gpuType": "T4"
    },
    "accelerator": "GPU"
  },
  "nbformat": 4,
  "nbformat_minor": 5
}